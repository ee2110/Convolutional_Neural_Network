{
  "nbformat": 4,
  "nbformat_minor": 0,
  "metadata": {
    "colab": {
      "name": "Food_Multilabel_Classification-Recipes5k.ipynb",
      "provenance": [],
      "collapsed_sections": []
    },
    "kernelspec": {
      "name": "python3",
      "display_name": "Python 3"
    },
    "accelerator": "GPU"
  },
  "cells": [
    {
      "cell_type": "code",
      "metadata": {
        "id": "DQPK-VWKFD-R"
      },
      "source": [
        "import cv2\n",
        "import numpy as np\n",
        "import pandas as pd\n",
        "import os\n",
        "\n",
        "from pydrive.auth import GoogleAuth\n",
        "from pydrive.drive import GoogleDrive\n",
        "from google.colab import auth\n",
        "from oauth2client.client import GoogleCredentials\n",
        "from collections import Counter\n",
        "\n",
        "from keras.callbacks import Callback\n",
        "from keras.backend import clear_session\n",
        "from keras.models import Model, load_model\n",
        "from keras.layers import Dense, Input, Flatten\n",
        "from keras.applications import ResNet50, MobileNet, Xception, DenseNet121\n",
        "\n",
        "from sklearn.metrics import f1_score\n",
        "from sklearn.model_selection import train_test_split"
      ],
      "execution_count": 1,
      "outputs": []
    },
    {
      "cell_type": "code",
      "metadata": {
        "colab": {
          "base_uri": "https://localhost:8080/"
        },
        "id": "Crux5Fs-0sQs",
        "outputId": "653f3f2e-912a-4167-9c2f-a859ef600372"
      },
      "source": [
        "from google.colab import drive\r\n",
        "drive.mount('/content/drive')"
      ],
      "execution_count": 2,
      "outputs": [
        {
          "output_type": "stream",
          "text": [
            "Mounted at /content/drive\n"
          ],
          "name": "stdout"
        }
      ]
    },
    {
      "cell_type": "code",
      "metadata": {
        "id": "wLxRRhVS1CHb"
      },
      "source": [
        "root_path = 'MyDrive/Recipes5k/annotations'"
      ],
      "execution_count": 3,
      "outputs": []
    },
    {
      "cell_type": "code",
      "metadata": {
        "colab": {
          "base_uri": "https://localhost:8080/"
        },
        "id": "8DICGpW2nMHk",
        "outputId": "b60552ce-744d-42bc-86e8-e58fcdf183a9"
      },
      "source": [
        "cd MyDrive/Recipes5k"
      ],
      "execution_count": 8,
      "outputs": [
        {
          "output_type": "stream",
          "text": [
            "[Errno 2] No such file or directory: '/MyDrive/Recipes5k'\n",
            "/content\n"
          ],
          "name": "stdout"
        }
      ]
    },
    {
      "cell_type": "code",
      "metadata": {
        "id": "VPHAEOzqN0QW"
      },
      "source": [
        "## Downloading file from Google Drive\n",
        "\n",
        "download = drive.CreateFile({'id': '1Kuz9LVt9nxFghTwDeo9csu0lnNdIbmu8'})\n",
        "download.GetContentFile('data.tar.gz')"
      ],
      "execution_count": null,
      "outputs": []
    },
    {
      "cell_type": "code",
      "metadata": {
        "id": "afxw95uDN_O5",
        "colab": {
          "base_uri": "https://localhost:8080/"
        },
        "outputId": "e1481e37-43ab-49bb-eeea-f1a32b5425cd"
      },
      "source": [
        "!tar -xzvf data.tar.gz"
      ],
      "execution_count": null,
      "outputs": [
        {
          "output_type": "stream",
          "text": [
            "tar (child): data.tar.gz: Cannot open: No such file or directory\n",
            "tar (child): Error is not recoverable: exiting now\n",
            "tar: Child returned status 2\n",
            "tar: Error is not recoverable: exiting now\n"
          ],
          "name": "stdout"
        }
      ]
    },
    {
      "cell_type": "code",
      "metadata": {
        "id": "ZeQUKPmwIgbt",
        "colab": {
          "base_uri": "https://localhost:8080/",
          "height": 34
        },
        "outputId": "c58ec4ac-07d2-437b-9234-4c5ff6b8e932"
      },
      "source": [
        "cd ./data/keras"
      ],
      "execution_count": null,
      "outputs": [
        {
          "output_type": "stream",
          "text": [
            "/content/data/keras\n"
          ],
          "name": "stdout"
        }
      ]
    },
    {
      "cell_type": "code",
      "metadata": {
        "id": "FuYq4XtUpU4Y"
      },
      "source": [
        "def load_data(df):\n",
        "    \n",
        "    trainX, testX, valX = [], [], []\n",
        "    trainY, testY, valY = [], [], []\n",
        "    \n",
        "    for i in range(len(df)):\n",
        "        \n",
        "        item = df.loc[i][0]\n",
        "        current_label = np.array((df.loc[i])[1:])\n",
        "        \n",
        "        path = os.path.join('images', item)\n",
        "        list_of_imgs = [os.path.join(path, file) for file in os.listdir(path)]\n",
        "        train_set = list_of_imgs[:30]\n",
        "        val_set = list_of_imgs[30:40]\n",
        "        test_set = list_of_imgs[40:]\n",
        "        \n",
        "        for file in train_set:\n",
        "            img = cv2.resize(cv2.cvtColor(cv2.imread(file, 1), cv2.COLOR_BGR2RGB), (224, 224))\n",
        "            trainX.append(img)\n",
        "            trainY.append(current_label)\n",
        "        \n",
        "        for file in val_set:\n",
        "            img = cv2.resize(cv2.cvtColor(cv2.imread(file, 1), cv2.COLOR_BGR2RGB), (224, 224))\n",
        "            valX.append(img)\n",
        "            valY.append(current_label)\n",
        "        \n",
        "        for file in test_set:\n",
        "            img = cv2.resize(cv2.cvtColor(cv2.imread(file, 1), cv2.COLOR_BGR2RGB), (224, 224))\n",
        "            testX.append(img)\n",
        "            testY.append(current_label)\n",
        "            \n",
        "    return (np.array(trainX), np.array(trainY), np.array(testX), \n",
        "            np.array(testY), np.array(valX), np.array(valY))"
      ],
      "execution_count": null,
      "outputs": []
    },
    {
      "cell_type": "code",
      "metadata": {
        "id": "hVppfG_tpZzq"
      },
      "source": [
        "df = pd.read_csv('clean_anno_reduced.csv')\n",
        "trainX, trainY, testX, testY, valX, valY = load_data(df)"
      ],
      "execution_count": null,
      "outputs": []
    },
    {
      "cell_type": "code",
      "metadata": {
        "id": "y-ETZZdns7Hu"
      },
      "source": [
        "## Normalization\n",
        "\n",
        "trainX = trainX.astype(np.float32)\n",
        "testX = testX.astype(np.float32)\n",
        "valX = valX.astype(np.float32)\n",
        "\n",
        "trainY = trainY.astype(np.float32)\n",
        "testY = testY.astype(np.float32)\n",
        "valY = valY.astype(np.float32)\n",
        "\n",
        "MEAN = np.mean(trainX, axis = (0,1,2))\n",
        "STD = np.std(trainX, axis = (0,1,2))\n",
        "\n",
        "for i in range(3):\n",
        "    trainX[:, :, :, i] = (trainX[:, :, :, i] - MEAN[i]) / STD[i]\n",
        "    testX[:, :, :, i] = (testX[:, :, :, i] - MEAN[i]) / STD[i]\n",
        "    valX[:, :, :, i] = (valX[:, :, :, i] - MEAN[i]) / STD[i]"
      ],
      "execution_count": null,
      "outputs": []
    },
    {
      "cell_type": "code",
      "metadata": {
        "id": "P0_BlGrAJHld",
        "colab": {
          "base_uri": "https://localhost:8080/",
          "height": 52
        },
        "outputId": "010fa754-df3e-4fa6-cb9a-d68f64dff7af"
      },
      "source": [
        "MEAN, STD"
      ],
      "execution_count": null,
      "outputs": [
        {
          "output_type": "execute_result",
          "data": {
            "text/plain": [
              "(array([51.072815, 51.072815, 51.072815], dtype=float32),\n",
              " array([108.75629,  92.98068,  85.61884], dtype=float32))"
            ]
          },
          "metadata": {
            "tags": []
          },
          "execution_count": 12
        }
      ]
    },
    {
      "cell_type": "code",
      "metadata": {
        "id": "o7EDrnfxs_D5"
      },
      "source": [
        "clear_session()\n",
        "img = Input(shape = (224, 224, 3))\n",
        "\n",
        "## You can replace DenseNet121 with MobileNet, Xception or ResNet50\n",
        "model = DenseNet121(include_top=False, \n",
        "                    weights='imagenet', \n",
        "                    input_tensor=img, \n",
        "                    input_shape=None, \n",
        "                    pooling='avg')\n",
        "final_layer = model.layers[-1].output\n",
        "\n",
        "dense_layer_1 = Dense(128, activation = 'relu')(final_layer)\n",
        "output_layer = Dense(10, activation = 'sigmoid')(dense_layer_1)\n",
        "\n",
        "model = Model(input = img, output = output_layer)"
      ],
      "execution_count": null,
      "outputs": []
    },
    {
      "cell_type": "code",
      "metadata": {
        "id": "RcAsoWqUtHkm"
      },
      "source": [
        "## Custom callback to compute F1 Score and save the model\n",
        "## with best validation F1 Score.\n",
        "\n",
        "class ComputeF1(Callback):\n",
        "    \n",
        "    def __init__(self):\n",
        "        self.best_f1 = -1\n",
        "        \n",
        "    def on_epoch_end(self, epoch, logs={}):\n",
        "        val_pred = np.round(self.model.predict(self.validation_data[0]))\n",
        "        val_f1 = f1_score(self.validation_data[1], val_pred, average='samples')\n",
        "        print('Validation Average F1 Score: ', val_f1)\n",
        "        \n",
        "        if val_f1 > self.best_f1:\n",
        "            print('Better F1 Score, Saving model...')\n",
        "            self.model.save('model.h5')\n",
        "            self.best_f1 = val_f1"
      ],
      "execution_count": null,
      "outputs": []
    },
    {
      "cell_type": "code",
      "metadata": {
        "id": "rXRbd98FtKtP"
      },
      "source": [
        "f1_score_callback = ComputeF1()\n",
        "model.compile(optimizer = 'adam', loss = 'binary_crossentropy' , metrics = ['accuracy'])\n",
        "#model.summary()"
      ],
      "execution_count": null,
      "outputs": []
    },
    {
      "cell_type": "code",
      "metadata": {
        "id": "dMnBlAT4tNOz"
      },
      "source": [
        "model.fit(trainX, trainY, batch_size = 32, epochs = 25, validation_data = (valX, valY), \n",
        "          callbacks = [f1_score_callback])"
      ],
      "execution_count": null,
      "outputs": []
    },
    {
      "cell_type": "code",
      "metadata": {
        "id": "VORFnhNvuEle"
      },
      "source": [
        "## Loading best model based on validation score\n",
        "\n",
        "from keras.models import load_model\n",
        "model = load_model('model.h5')"
      ],
      "execution_count": null,
      "outputs": []
    },
    {
      "cell_type": "code",
      "metadata": {
        "id": "02dSvybOz-KV"
      },
      "source": [
        "def F1_score(y_true, y_pred):\n",
        "    return f1_score(y_true, y_pred, average='samples')"
      ],
      "execution_count": null,
      "outputs": []
    },
    {
      "cell_type": "code",
      "metadata": {
        "id": "ekc88dwk0Oja",
        "colab": {
          "base_uri": "https://localhost:8080/",
          "height": 34
        },
        "outputId": "2c8e3bbb-d327-467b-9fd9-d2b578d4bff6"
      },
      "source": [
        "F1_score(testY, model.predict(testX).round())"
      ],
      "execution_count": null,
      "outputs": [
        {
          "output_type": "execute_result",
          "data": {
            "text/plain": [
              "0.7064709348159105"
            ]
          },
          "metadata": {
            "tags": []
          },
          "execution_count": 72
        }
      ]
    },
    {
      "cell_type": "code",
      "metadata": {
        "id": "TqkDl9sxIyFz"
      },
      "source": [
        ""
      ],
      "execution_count": null,
      "outputs": []
    }
  ]
}